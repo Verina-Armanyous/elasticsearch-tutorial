{
 "cells": [
  {
   "cell_type": "markdown",
   "metadata": {},
   "source": [
    "## Hands-on Example"
   ]
  },
  {
   "cell_type": "code",
   "execution_count": 1,
   "metadata": {},
   "outputs": [],
   "source": [
    "import requests\n",
    "import json\n",
    "from elasticsearch import Elasticsearch\n",
    "# uncomment the next line to install elasticsearch\n",
    "# pip install elasticsearch "
   ]
  },
  {
   "cell_type": "code",
   "execution_count": 2,
   "metadata": {},
   "outputs": [],
   "source": [
    "# Connect to the cluster\n",
    "es = Elasticsearch([{'host': 'localhost', 'port': 9200}])"
   ]
  },
  {
   "cell_type": "code",
   "execution_count": 3,
   "metadata": {},
   "outputs": [
    {
     "name": "stdout",
     "output_type": "stream",
     "text": [
      "{'cluster_name': 'es-docker-cluster', 'status': 'green', 'timed_out': False, 'number_of_nodes': 4, 'number_of_data_nodes': 4, 'active_primary_shards': 1, 'active_shards': 3, 'relocating_shards': 0, 'initializing_shards': 0, 'unassigned_shards': 0, 'delayed_unassigned_shards': 0, 'number_of_pending_tasks': 0, 'number_of_in_flight_fetch': 0, 'task_max_waiting_in_queue_millis': 0, 'active_shards_percent_as_number': 100.0}\n"
     ]
    }
   ],
   "source": [
    "# check the status of the cluster \n",
    "# if you just started the cluster, wait a bit before running this command. \n",
    "# Otherwise, you will get a \"no response\" error. If that happens, retry in a bit. \n",
    "print(es.cluster.health())"
   ]
  },
  {
   "cell_type": "code",
   "execution_count": 4,
   "metadata": {},
   "outputs": [],
   "source": [
    "# fetch data from programmingquotesapi and ingest the data into Elasticsearch \n",
    "i = 0\n",
    "r = requests.get('https://programmingquotesapi.azurewebsites.net/quotes')\n",
    "quotes = json.loads(r.content)\n",
    "while i < len(quotes):\n",
    "    es.index(index='quotes',document=quotes[i])\n",
    "    i=i+1 "
   ]
  },
  {
   "cell_type": "code",
   "execution_count": 5,
   "metadata": {},
   "outputs": [],
   "source": [
    "res = es.search(index=\"quotes\", query = {\n",
    "    'match_all' : {}}, size = '3')"
   ]
  },
  {
   "cell_type": "code",
   "execution_count": 6,
   "metadata": {},
   "outputs": [],
   "source": [
    "documents = res['hits']['hits']"
   ]
  },
  {
   "cell_type": "code",
   "execution_count": 7,
   "metadata": {},
   "outputs": [
    {
     "name": "stdout",
     "output_type": "stream",
     "text": [
      "_index : quotes\n",
      "_type : _doc\n",
      "_id : u1gLH30BKQY8iX9w7aRl\n",
      "_score : 1.0\n",
      "_source : {'id': '5a6ce86e2af929789500e7e4', 'author': 'Edsger W. Dijkstra', 'en': 'Computer Science is no more about computers than astronomy is about telescopes.'}\n",
      "\n",
      "\n",
      "_index : quotes\n",
      "_type : _doc\n",
      "_id : vFgLH30BKQY8iX9w76RG\n",
      "_score : 1.0\n",
      "_source : {'id': '5a6ce86e2af929789500e7d7', 'author': 'Edsger W. Dijkstra', 'en': 'Simplicity is prerequisite for reliability.'}\n",
      "\n",
      "\n",
      "_index : quotes\n",
      "_type : _doc\n",
      "_id : vVgLH30BKQY8iX9w76Rg\n",
      "_score : 1.0\n",
      "_source : {'id': '5a6ce86d2af929789500e7ca', 'author': 'Edsger W. Dijkstra', 'en': 'The computing scientist’s main challenge is not to get confused by the complexities of his own making.'}\n",
      "\n",
      "\n"
     ]
    }
   ],
   "source": [
    "for num, doc in enumerate(documents):\n",
    "    for key, value in doc.items():\n",
    "        print (key, \":\", value)\n",
    "   \n",
    "    print (\"\\n\")"
   ]
  }
 ],
 "metadata": {
  "kernelspec": {
   "display_name": "Python 3",
   "language": "python",
   "name": "python3"
  },
  "language_info": {
   "codemirror_mode": {
    "name": "ipython",
    "version": 3
   },
   "file_extension": ".py",
   "mimetype": "text/x-python",
   "name": "python",
   "nbconvert_exporter": "python",
   "pygments_lexer": "ipython3",
   "version": "3.7.7"
  }
 },
 "nbformat": 4,
 "nbformat_minor": 4
}
