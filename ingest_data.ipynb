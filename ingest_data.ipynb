{
 "cells": [
  {
   "cell_type": "markdown",
   "metadata": {},
   "source": [
    "## Hands-on Example"
   ]
  },
  {
   "cell_type": "markdown",
   "metadata": {},
   "source": [
    "### First: Import libraries"
   ]
  },
  {
   "cell_type": "code",
   "execution_count": 1,
   "metadata": {},
   "outputs": [],
   "source": [
    "import requests\n",
    "import json\n",
    "from elasticsearch import Elasticsearch\n",
    "# uncomment the next lines if don't have requests and Elasticsearch libraries on your machine \n",
    "# pip install requests\n",
    "# pip install elasticsearch "
   ]
  },
  {
   "cell_type": "markdown",
   "metadata": {},
   "source": [
    "### Second: Connect to the cluster and check its status"
   ]
  },
  {
   "cell_type": "code",
   "execution_count": 2,
   "metadata": {},
   "outputs": [],
   "source": [
    "es = Elasticsearch([{'host': 'localhost', 'port': 9200}])"
   ]
  },
  {
   "cell_type": "code",
   "execution_count": 3,
   "metadata": {},
   "outputs": [
    {
     "name": "stdout",
     "output_type": "stream",
     "text": [
      "{'cluster_name': 'es-docker-cluster', 'status': 'green', 'timed_out': False, 'number_of_nodes': 4, 'number_of_data_nodes': 3, 'active_primary_shards': 0, 'active_shards': 0, 'relocating_shards': 0, 'initializing_shards': 0, 'unassigned_shards': 0, 'delayed_unassigned_shards': 0, 'number_of_pending_tasks': 0, 'number_of_in_flight_fetch': 0, 'task_max_waiting_in_queue_millis': 0, 'active_shards_percent_as_number': 100.0}\n"
     ]
    }
   ],
   "source": [
    "# check the status of the cluster \n",
    "# if you just started the cluster, wait a bit before running this command. \n",
    "# Otherwise, you will get a \"no response\" error. If that happens, retry in a few seconds. \n",
    "print(es.cluster.health())"
   ]
  },
  {
   "cell_type": "markdown",
   "metadata": {},
   "source": [
    "### Third: Create two indices"
   ]
  },
  {
   "cell_type": "code",
   "execution_count": 4,
   "metadata": {},
   "outputs": [
    {
     "data": {
      "text/plain": [
       "{'acknowledged': True, 'shards_acknowledged': True, 'index': 'exp2_quotes'}"
      ]
     },
     "execution_count": 4,
     "metadata": {},
     "output_type": "execute_result"
    }
   ],
   "source": [
    "settings1 = {\"number_of_replicas\": 0,\"number_of_shards\": 2}\n",
    "es.indices.create(index='exp1_quotes', settings=settings1)\n",
    "\n",
    "settings2 = {\"number_of_replicas\": 1}\n",
    "es.indices.create(index='exp2_quotes', settings=settings2)"
   ]
  },
  {
   "cell_type": "markdown",
   "metadata": {},
   "source": [
    "### Fourth: Fetch data from the API and ingest it into both indices"
   ]
  },
  {
   "cell_type": "code",
   "execution_count": 5,
   "metadata": {},
   "outputs": [],
   "source": [
    "i = 0\n",
    "r = requests.get('https://programming-quotes-api.herokuapp.com/Quotes?count=501')\n",
    "quotes = json.loads(r.content)\n",
    "while i < len(quotes):\n",
    "    es.index(index='exp1_quotes', document=quotes[i])\n",
    "    es.index(index='exp2_quotes', document=quotes[i])\n",
    "    i=i+1 "
   ]
  },
  {
   "cell_type": "markdown",
   "metadata": {},
   "source": [
    "### Fifth: Investigate data using one of the indices "
   ]
  },
  {
   "cell_type": "code",
   "execution_count": 7,
   "metadata": {},
   "outputs": [
    {
     "name": "stdout",
     "output_type": "stream",
     "text": [
      "_index : exp1_quotes\n",
      "_type : _doc\n",
      "_id : BVIMwH0BUrelX8XTSEV0\n",
      "_score : 1.0\n",
      "_source : {'id': '5a6ce86d2af929789500e7ca', 'author': 'Edsger W. Dijkstra', 'en': 'The computing scientist’s main challenge is not to get confused by the complexities of his own making.'}\n",
      "\n",
      "\n",
      "_index : exp1_quotes\n",
      "_type : _doc\n",
      "_id : B1IMwH0BUrelX8XTSEWk\n",
      "_score : 1.0\n",
      "_source : {'id': '5a6ce86f2af929789500e7f3', 'author': 'Edsger W. Dijkstra', 'en': 'If debugging is the process of removing software bugs, then programming must be the process of putting them in.'}\n",
      "\n",
      "\n",
      "_index : exp1_quotes\n",
      "_type : _doc\n",
      "_id : CVIMwH0BUrelX8XTSEXL\n",
      "_score : 1.0\n",
      "_ignored : ['en.keyword']\n",
      "_source : {'id': '5a6ce86e2af929789500e7d9', 'author': 'Edsger W. Dijkstra', 'en': 'A program is like a poem: you cannot write a poem without writing it. Yet people talk about programming as if it were a production process and measure „programmer productivity“ in terms of „number of lines of code produced“. In so doing they book that number on the wrong side of the ledger: We should always refer to „the number of lines of code spent“.'}\n",
      "\n",
      "\n"
     ]
    }
   ],
   "source": [
    "res = es.search(index=\"exp1_quotes\", query = {'match_all' : {}}, size = '3')\n",
    "documents = res['hits']['hits']\n",
    "\n",
    "for num, doc in enumerate(documents):\n",
    "    for key, value in doc.items():\n",
    "        print (key, \":\", value)\n",
    "   \n",
    "    print (\"\\n\")"
   ]
  },
  {
   "cell_type": "markdown",
   "metadata": {},
   "source": [
    "## First experiment: Stopping a shard in a system with zero replicas and two shards"
   ]
  },
  {
   "cell_type": "code",
   "execution_count": 9,
   "metadata": {},
   "outputs": [
    {
     "data": {
      "text/plain": [
       "{'_index': 'exp1_quotes',\n",
       " '_type': '_doc',\n",
       " '_id': '7FIRwH0BUrelX8XTLkiH',\n",
       " '_version': 1,\n",
       " 'result': 'created',\n",
       " '_shards': {'total': 1, 'successful': 1, 'failed': 0},\n",
       " '_seq_no': 240,\n",
       " '_primary_term': 1}"
      ]
     },
     "execution_count": 9,
     "metadata": {},
     "output_type": "execute_result"
    }
   ],
   "source": [
    "### step 2: ingest a document into the second shard\n",
    "es.index(index='exp1_quotes', document={\"id\": \"1\", \"author\":  \"someone\", \n",
    "                                        \"en\": \"Talk is cheap. Show me the code.\"})"
   ]
  },
  {
   "cell_type": "code",
   "execution_count": 11,
   "metadata": {
    "scrolled": true
   },
   "outputs": [
    {
     "data": {
      "text/plain": [
       "{'took': 132,\n",
       " 'timed_out': False,\n",
       " '_shards': {'total': 2,\n",
       "  'successful': 1,\n",
       "  'skipped': 0,\n",
       "  'failed': 1,\n",
       "  'failures': [{'shard': 0,\n",
       "    'index': 'exp1_quotes',\n",
       "    'node': None,\n",
       "    'reason': {'type': 'no_shard_available_action_exception',\n",
       "     'reason': None,\n",
       "     'index_uuid': 'BCiCzLZYSVSOe8Exz3YuYQ',\n",
       "     'shard': '0',\n",
       "     'index': 'exp1_quotes'}}]},\n",
       " 'hits': {'total': {'value': 0, 'relation': 'eq'},\n",
       "  'max_score': None,\n",
       "  'hits': []}}"
      ]
     },
     "execution_count": 11,
     "metadata": {},
     "output_type": "execute_result"
    }
   ],
   "source": [
    "### steps 3 & 5: query the document\n",
    "res = es.search(index=\"exp1_quotes\", query = {\"match\" : { \"author\" : \"someone\"}})\n",
    "res"
   ]
  },
  {
   "cell_type": "markdown",
   "metadata": {},
   "source": [
    "## Fouth expriment: killing the master node"
   ]
  },
  {
   "cell_type": "code",
   "execution_count": 12,
   "metadata": {},
   "outputs": [
    {
     "data": {
      "text/plain": [
       "{'_index': 'exp2_quotes',\n",
       " '_type': '_doc',\n",
       " '_id': '7VIhwH0BUrelX8XT7EgK',\n",
       " '_version': 1,\n",
       " 'result': 'created',\n",
       " '_shards': {'total': 2, 'successful': 2, 'failed': 0},\n",
       " '_seq_no': 501,\n",
       " '_primary_term': 5}"
      ]
     },
     "execution_count": 12,
     "metadata": {},
     "output_type": "execute_result"
    }
   ],
   "source": [
    "### step 2: Ingest data into exp2_quotes index \n",
    "es.index(index='exp2_quotes', document={\"id\": \"1\", \"author\":  \"noone \", \n",
    "                                        \"en\":  \"Copy-and-Paste was programmed by programmers for programmers \"})"
   ]
  },
  {
   "cell_type": "code",
   "execution_count": null,
   "metadata": {},
   "outputs": [],
   "source": []
  }
 ],
 "metadata": {
  "kernelspec": {
   "display_name": "Python 3",
   "language": "python",
   "name": "python3"
  },
  "language_info": {
   "codemirror_mode": {
    "name": "ipython",
    "version": 3
   },
   "file_extension": ".py",
   "mimetype": "text/x-python",
   "name": "python",
   "nbconvert_exporter": "python",
   "pygments_lexer": "ipython3",
   "version": "3.7.7"
  }
 },
 "nbformat": 4,
 "nbformat_minor": 4
}
